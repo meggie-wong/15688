{
 "cells": [
  {
   "cell_type": "code",
   "execution_count": 1,
   "metadata": {
    "collapsed": true
   },
   "outputs": [],
   "source": [
    "import pandas as pd\n",
    "import numpy as np\n",
    "import scipy.stats as stats\n",
    "from nltk.corpus import stopwords\n",
    "from string import punctuation\n",
    "from nltk.stem.wordnet import WordNetLemmatizer\n",
    "from sklearn.feature_extraction.text import CountVectorizer\n",
    "from sklearn.model_selection import train_test_split\n",
    "from sklearn.naive_bayes import GaussianNB, MultinomialNB\n",
    "from sklearn.metrics import accuracy_score\n",
    "\n",
    "import matplotlib.pyplot as plt"
   ]
  },
  {
   "cell_type": "markdown",
   "metadata": {},
   "source": [
    "# Introduction"
   ]
  },
  {
   "cell_type": "markdown",
   "metadata": {},
   "source": [
    "[Yelp.com](www.yelp.com) is a popular crowd-sourced local business review and social network site. It offers a platform where users can submit a review of the business using a one to five star rating system along with additional reviews. In this project, we are interested in the sentiment of reviews and trying to explore what could be potential useful factors to predict the sentiment. "
   ]
  },
  {
   "cell_type": "markdown",
   "metadata": {},
   "source": [
    "# Data Overview\n"
   ]
  },
  {
   "cell_type": "markdown",
   "metadata": {},
   "source": [
    "All the data is retrieved using the Yelp Fusion API. We search for restaurants in 10 cities in the United States, namely Boston, Chicago, Miami, Minneapolis, Nashville, New Mexico, New York, Pittsburgh, San Francisco and Seattle. \n",
    "\n",
    "For each city, we collect at most 1,000 restaurants and at most 3 reviews (due to the API limitation) for each restaurant. There are in total 9915 restaurants and 29742 reviews. In additional to the review text and the review rating, we also retrieved other business-related information including the city location, overall  restaurant rating, category, price level and the total review count for each restaurant. Data are then preprocessed and stored in a dataframe. "
   ]
  },
  {
   "cell_type": "code",
   "execution_count": 2,
   "metadata": {},
   "outputs": [
    {
     "data": {
      "text/html": [
       "<div>\n",
       "<style>\n",
       "    .dataframe thead tr:only-child th {\n",
       "        text-align: right;\n",
       "    }\n",
       "\n",
       "    .dataframe thead th {\n",
       "        text-align: left;\n",
       "    }\n",
       "\n",
       "    .dataframe tbody tr th {\n",
       "        vertical-align: top;\n",
       "    }\n",
       "</style>\n",
       "<table border=\"1\" class=\"dataframe\">\n",
       "  <thead>\n",
       "    <tr style=\"text-align: right;\">\n",
       "      <th></th>\n",
       "      <th>review_id</th>\n",
       "      <th>restaurant_id</th>\n",
       "      <th>rating</th>\n",
       "      <th>text</th>\n",
       "      <th>city</th>\n",
       "      <th>category</th>\n",
       "      <th>restaurant_rating</th>\n",
       "      <th>price</th>\n",
       "      <th>review_count</th>\n",
       "    </tr>\n",
       "  </thead>\n",
       "  <tbody>\n",
       "    <tr>\n",
       "      <th>0</th>\n",
       "      <td>MZRCnkRjWwilSI1tazv_3w</td>\n",
       "      <td>y2w6rFaO0XEiG5mFfOsiFA</td>\n",
       "      <td>5</td>\n",
       "      <td>The best lobster rolls in Boston. They give ve...</td>\n",
       "      <td>Boston</td>\n",
       "      <td>(Seafood, Bars)</td>\n",
       "      <td>4.5</td>\n",
       "      <td>$$$</td>\n",
       "      <td>4041</td>\n",
       "    </tr>\n",
       "    <tr>\n",
       "      <th>1</th>\n",
       "      <td>D7rxX5QE1uHJ1rcHCRjRkA</td>\n",
       "      <td>y2w6rFaO0XEiG5mFfOsiFA</td>\n",
       "      <td>5</td>\n",
       "      <td>Amazing selection of oysters!! Hot lobster rol...</td>\n",
       "      <td>Boston</td>\n",
       "      <td>(Seafood, Bars)</td>\n",
       "      <td>4.5</td>\n",
       "      <td>$$$</td>\n",
       "      <td>4041</td>\n",
       "    </tr>\n",
       "  </tbody>\n",
       "</table>\n",
       "</div>"
      ],
      "text/plain": [
       "                review_id           restaurant_id rating  \\\n",
       "0  MZRCnkRjWwilSI1tazv_3w  y2w6rFaO0XEiG5mFfOsiFA      5   \n",
       "1  D7rxX5QE1uHJ1rcHCRjRkA  y2w6rFaO0XEiG5mFfOsiFA      5   \n",
       "\n",
       "                                                text    city         category  \\\n",
       "0  The best lobster rolls in Boston. They give ve...  Boston  (Seafood, Bars)   \n",
       "1  Amazing selection of oysters!! Hot lobster rol...  Boston  (Seafood, Bars)   \n",
       "\n",
       "   restaurant_rating price review_count  \n",
       "0                4.5   $$$         4041  \n",
       "1                4.5   $$$         4041  "
      ]
     },
     "execution_count": 2,
     "metadata": {},
     "output_type": "execute_result"
    }
   ],
   "source": [
    "# load data into a panda dataframe\n",
    "data = pd.read_pickle('complete_data')\n",
    "\n",
    "# show first 2 row of the data\n",
    "# data.head(2)"
   ]
  },
  {
   "cell_type": "markdown",
   "metadata": {},
   "source": [
    "# Exploratory Data Analysis\n"
   ]
  },
  {
   "cell_type": "markdown",
   "metadata": {},
   "source": [
    "To begin with, we first perform a exploratory data analysis to get a through understading of our data and explore the relationship between each variables. \n",
    "\n",
    "We choose price, restaurant_rating, review_count and estimate (the estimated category) as explanatory variables, and rating as the response. In this section we will focus on the first three. "
   ]
  },
  {
   "cell_type": "code",
   "execution_count": 3,
   "metadata": {},
   "outputs": [
    {
     "name": "stdout",
     "output_type": "stream",
     "text": [
      "Price value:{'$', '$$', '$$$$', '$$$'}\n",
      "Restaurant Rating: {1.5, 2.5, 3.0, 3.5, 5.0, 4.5, 4.0, 2.0}\n",
      "Review Rating: {1, 2, 3, 4, 5}\n"
     ]
    }
   ],
   "source": [
    "# get categories\n",
    "print(\"Price value:\" + str(set(pd.Series.tolist(data['price']))))\n",
    "print(\"Restaurant Rating: \" + str(set(pd.Series.tolist(data['restaurant_rating']))))\n",
    "print(\"Review Rating: \" + str(set(pd.Series.tolist(data['rating']))))"
   ]
  },
  {
   "cell_type": "markdown",
   "metadata": {},
   "source": [
    "From the above outputs we see that price is a categorical variable with four levels: \\$, \\$\\$, \\$\\$\\$, \\$\\$\\$\\$. Restaurant_rating is also categorical with 8 categories: 1.5, 2.0, 2.5, 3.0, 3.5, 4.0, 4.5, 5.0. Review count is quantitative and takes values in positive integers. Then we will explore how each variable interact with the review rating."
   ]
  },
  {
   "cell_type": "markdown",
   "metadata": {},
   "source": [
    "# Statistical Analysis\n"
   ]
  },
  {
   "cell_type": "markdown",
   "metadata": {},
   "source": [
    "We want to analyze the relationship between each of the three explanatory variables and the response. Since price and restaurant_rating are categorical, we will run chi-square test on them. "
   ]
  },
  {
   "cell_type": "code",
   "execution_count": 4,
   "metadata": {},
   "outputs": [
    {
     "name": "stdout",
     "output_type": "stream",
     "text": [
      "price ~ rating: \n",
      "chi-squared stat: 147.38530044\n",
      "critical value: 21.0260698175\n"
     ]
    }
   ],
   "source": [
    "# price ~ rating test\n",
    "# get counts of combinations of different levels of price and rating\n",
    "d = data.groupby(['price', 'rating']).size().reset_index(name='count')\n",
    "p = pd.Series.tolist(d['price'])\n",
    "prices = set(p)\n",
    "r = pd.Series.tolist(d['rating'])\n",
    "ratings = set(r)\n",
    "c = pd.Series.tolist(d['count'])\n",
    "l = [(p[i], r[i], c[i], 0) for i in range(len(p))]\n",
    "for price in prices:\n",
    "    for rating in ratings:\n",
    "        # compute row total\n",
    "        row = sum([z for (x, y, z, v) in l if y == rating])\n",
    "        # compute column total\n",
    "        col = sum([z for (x, y, z, v) in l if x == price])\n",
    "        tot = sum([z for (x, y, z, v) in l])\n",
    "        # compute expected for this entry\n",
    "        exp = row*col/tot\n",
    "        l1 = [(x, y, z, exp) for (x, y, z, v) in l if (x == price and y == rating)]\n",
    "        l2 = [(x, y, z, v) for (x, y, z, v) in l if (x != price or y != rating)]\n",
    "        l = l1+l2\n",
    "# sum up (observed - expected)^2/expected\n",
    "chisq = np.sum([(z-v)**2/v for (x, y, z, v) in l])\n",
    "print('price ~ rating: ')\n",
    "print('chi-squared stat: ' + str(chisq))\n",
    "crit = stats.chi2.ppf(q = 0.95, df=(len(prices)-1)*(len(ratings)-1))\n",
    "print('critical value: ' + str(crit))"
   ]
  },
  {
   "cell_type": "markdown",
   "metadata": {},
   "source": [
    "Since chi-squared stat > critical value, we reject the null hypothesis and state there's a relationship between price and rating. "
   ]
  },
  {
   "cell_type": "markdown",
   "metadata": {},
   "source": [
    "#### Price - Rating Analysis \n",
    "We would like to analyze the relationship between price and review rating. From the visualization below, it turns out to be that the higher the resraurant price level is, the higher rating of each review for the restaurant. The resraurants in price \\$$$$ level have larger proportion of 5 star review rating (more than half) and less propotion of 1 star review rating (nearly 5%) than others.\n",
    "Also one thing can be inferred from this graph is that customers are more likely to give high ratings no matter what price level the resraurant is.\n",
    "\n",
    "So that we can infer that the luxury restaurant tends to have higher review ratings and cheap restaurants also have this feature. But cheap restaurants have the largest propotion of 1 star ratings. While, the moderately priced restaurant have the relatively normal distribution. "
   ]
  },
  {
   "cell_type": "code",
   "execution_count": 5,
   "metadata": {},
   "outputs": [
    {
     "data": {
      "image/png": "[encoded data removed]",
      "text/plain": [
       "<matplotlib.figure.Figure at 0x10b73b160>"
      ]
     },
     "metadata": {},
     "output_type": "display_data"
    }
   ],
   "source": [
    "# price ~ rating\n",
    "grouped = data.groupby(['price','rating'])\n",
    "tmp = grouped.size().unstack(fill_value=0)\n",
    "tmp = tmp.apply(lambda x: [c/x.sum() for c in x] ,axis=1)\n",
    "tmp.index = ['P-1$','P-2$','P-3$','P-4$']\n",
    "# print(tmp)\n",
    "tmp.plot.bar()\n",
    "plt.xlabel('restaurant price')\n",
    "plt.ylabel('percentage')\n",
    "plt.title('Restaurant_price ~ Rating')\n",
    "plt.show()"
   ]
  },
  {
   "cell_type": "code",
   "execution_count": 6,
   "metadata": {},
   "outputs": [
    {
     "name": "stdout",
     "output_type": "stream",
     "text": [
      "restaurant_rating ~ rating: \n",
      "chi-squared stat: 3166.11505573\n",
      "critical value: 41.3371381514\n"
     ]
    }
   ],
   "source": [
    "# restaurant_rating ~ rating test\n",
    "# get counts of combinations of different levels of restaurant_rating and rating\n",
    "d = data.groupby(['restaurant_rating', 'rating']).size().reset_index(name='count')\n",
    "rr = pd.Series.tolist(d['restaurant_rating'])\n",
    "restaurant_ratings = set(rr)\n",
    "r = pd.Series.tolist(d['rating'])\n",
    "ratings = set(r)\n",
    "c = pd.Series.tolist(d['count'])\n",
    "l = [(rr[i], r[i], c[i], 0) for i in range(len(rr))]\n",
    "for restaurant_rating in restaurant_ratings:\n",
    "    for rating in ratings:\n",
    "        # compute row total\n",
    "        row = sum([z for (x, y, z, v) in l if y == rating])\n",
    "        # compute column total\n",
    "        col = sum([z for (x, y, z, v) in l if x == restaurant_rating])\n",
    "        tot = sum([z for (x, y, z, v) in l])\n",
    "        # compute expected for this entry\n",
    "        exp = row*col/tot\n",
    "        l1 = [(x, y, z, exp) for (x, y, z, v) in l if (x == restaurant_rating and y == rating)]\n",
    "        l2 = [(x, y, z, v) for (x, y, z, v) in l if (x != restaurant_rating or y != rating)]\n",
    "        l = l1+l2\n",
    "# sum up (observed - expected)^2/expected\n",
    "chisq = np.sum([(z-v)**2/v for (x, y, z, v) in l])\n",
    "print('restaurant_rating ~ rating: ')\n",
    "print('chi-squared stat: ' + str(chisq))\n",
    "crit = stats.chi2.ppf(q = 0.95, df=(len(restaurant_ratings)-1)*(len(ratings)-1))\n",
    "print('critical value: ' + str(crit))"
   ]
  },
  {
   "cell_type": "markdown",
   "metadata": {},
   "source": [
    "Since chi-squared stat > critical value, we reject the null hypothesis and state there's a relationship between restaurant_rating and rating. "
   ]
  },
  {
   "cell_type": "markdown",
   "metadata": {},
   "source": [
    "#### Restaurant rating - Review rating Analysis \n",
    "We would like to analyze the relationship between restaurant rating and review rating. From the visualization below, it turns out to be that the higher the resraurant total rating is, the higher rating of each review for the restaurant. The resraurants rating 5.0 have larger proportion of 5 star review rating, and the 5 star rating is descending from restaurant rating 5.0 to 1.5 in gerneral（the propotion of 5 star rating in 5.0 restaurant is above 80% while in 1.5-2.5 restaurants it is just less than 20%). On the other hand, the low review ratings propotion are increasing from restaurant rating 5.0 to 1.5 in gerneral (the propotion of 1 star rating in 5.0 restaurant is nearly zero while in 1.5-2.0 restaurants it is almost half) . So that we can infer that the high rating restaurant tends to have higher review ratings."
   ]
  },
  {
   "cell_type": "code",
   "execution_count": 7,
   "metadata": {
    "scrolled": true
   },
   "outputs": [
    {
     "data": {
      "image/png": "[encoded data removed]",
      "text/plain": [
       "<matplotlib.figure.Figure at 0x10c855198>"
      ]
     },
     "metadata": {},
     "output_type": "display_data"
    }
   ],
   "source": [
    "# restaurant_rating ~ rating\n",
    "grouped = data.groupby([ 'restaurant_rating','rating'])\n",
    "# print(grouped.size())\n",
    "tmp = grouped.size().unstack(fill_value=0)\n",
    "tmp = tmp.apply(lambda x: [c/x.sum() for c in x] ,axis=1)\n",
    "# print(tmp)\n",
    "tmp.plot.bar()\n",
    "plt.xlabel('restaurant rating')\n",
    "plt.ylabel('percentage')\n",
    "plt.title('Restaurant_rating ~ Rating')\n",
    "plt.show()"
   ]
  },
  {
   "cell_type": "markdown",
   "metadata": {},
   "source": [
    "# MultinomialNB Classifer using only Review Text\n"
   ]
  },
  {
   "cell_type": "markdown",
   "metadata": {},
   "source": [
    "In the original data, the review rating is of scale 1 to 5. Our goal is to classify if the review is positive or negative. Therefore we convert the score into a binary variable. If the orignal review rating is greater than 3, we treated it as a positive review, otherwise it's a negative review. "
   ]
  },
  {
   "cell_type": "code",
   "execution_count": 8,
   "metadata": {
    "collapsed": true
   },
   "outputs": [],
   "source": [
    "# create sentiment label \n",
    "# if review rating > 3, it's positive, otherwise it's negative\n",
    "data = pd.read_pickle('complete_data')\n",
    "data['positive'] = np.where(data['rating'] > 3, 1, 0)\n",
    "\n",
    "# create training data and label\n",
    "x = data['text']\n",
    "y = data['positive']"
   ]
  },
  {
   "cell_type": "markdown",
   "metadata": {},
   "source": [
    "The original review text is messy and unprocessed. The first step is to clean up the text in order to build up a corpus. We transform all text to lower case, remove puntuations, non-english words, stop words and words shorter than 2 characters."
   ]
  },
  {
   "cell_type": "code",
   "execution_count": 9,
   "metadata": {
    "collapsed": true
   },
   "outputs": [],
   "source": [
    "def text_preprocess(doc):\n",
    "    stop = set(stopwords.words('english'))\n",
    "    exclude = set(punctuation)\n",
    "    lemma = WordNetLemmatizer()\n",
    "\n",
    "    stop_free = \" \".join([i for i in doc.lower().split() if i not in stop])\n",
    "    punc_free = ''.join(ch for ch in stop_free if ch not in exclude)\n",
    "    normalized = [lemma.lemmatize(word) for word in punc_free.split()]\n",
    "    long_tokens = [token for token in normalized if len(token) >= 2]\n",
    "    return long_tokens"
   ]
  },
  {
   "cell_type": "markdown",
   "metadata": {},
   "source": [
    "Next we will transorm the clean review text to a term frequency table. In order not to overfit the data, we limit the size of the corpus by setting both the upper and lower bounds. Specifically, we only record tokens that appear in at least 2% and at most 95% of total reviews. In this way we both elimiate tokens that are too rare and too frequent. After processing, there are in total 123 tokens as the entire courpus. "
   ]
  },
  {
   "cell_type": "code",
   "execution_count": 10,
   "metadata": {},
   "outputs": [
    {
     "name": "stdout",
     "output_type": "stream",
     "text": [
      "Corpus Size:123\n"
     ]
    }
   ],
   "source": [
    "bow = CountVectorizer(analyzer=text_preprocess, min_df=0.02, max_df=0.95).fit(x)\n",
    "clean_x = bow.transform(x)\n",
    "print(\"Corpus Size:\" + str(len(bow.vocabulary_)))"
   ]
  },
  {
   "cell_type": "markdown",
   "metadata": {},
   "source": [
    "We then divide the data into training, validation and testing with the ratio of 0.72 : 0.18 : 0.1. "
   ]
  },
  {
   "cell_type": "code",
   "execution_count": 11,
   "metadata": {
    "collapsed": true
   },
   "outputs": [],
   "source": [
    "# split data into training and testing set\n",
    "x_use, x_test , y_use, y_test = train_test_split(clean_x, y, test_size=0.1)\n",
    "x_train, x_validate, y_train, y_validate = train_test_split(x_use, y_use, test_size=0.2)"
   ]
  },
  {
   "cell_type": "markdown",
   "metadata": {},
   "source": [
    "Now we can start training a sentiment classifier using only the review text. We choose to use the simple Multinominal Naive Bayes classifier. We train the model on the training set and then test the prediction accuracy on the validation set. The validation accuracy can achieve around 71%. \n",
    "\n",
    "This is reasonable result. Although we are only using a small corpus and a simple model, most of the time it can still predict the correct sentiment. The reason behind this is that some of the tokens in the corpus provides strong sentiment indication, such as emotional adjectives. By merely looking at these terms it is not too hard to guess what the correct sentiment is. "
   ]
  },
  {
   "cell_type": "code",
   "execution_count": 12,
   "metadata": {},
   "outputs": [
    {
     "name": "stdout",
     "output_type": "stream",
     "text": [
      "Naive Bayes Validation Accuracy: 0.71746031746\n"
     ]
    }
   ],
   "source": [
    "nb = MultinomialNB()\n",
    "nb.fit(x_train, y_train)\n",
    "y_pred = nb.predict(x_validate)\n",
    "\n",
    "print(\"Naive Bayes Validation Accuracy: \"+ str(accuracy_score(y_validate, y_pred)))"
   ]
  },
  {
   "cell_type": "markdown",
   "metadata": {},
   "source": [
    "# Logistic Regression with Additional Variables\n"
   ]
  },
  {
   "cell_type": "markdown",
   "metadata": {},
   "source": [
    "Next, we want to improve the sentiment prediction accuracy from the previous classifer. In the previous data exploratory and the statitical analysis session, we have already discovered that other information about the restaurant, such as the price level and the average restaurant rating, have some correlations with the average review rating. So we think adding these addtional information can help the model to perform better in classifying sentiment. \n",
    "\n",
    "We apply a Logistic regression model to combine all these features. Specifically, we have the same target label as before, which is a binary variable indicating if it is a positive or negative sentiment. Then we fit Multinomial Naive Bayes model using the processed review text. This Naive Bayes will produce a probability indicating the likelihood of being a positive sentiment. We use this probability as one of the independent variables. In addtion, we flatten the price variable into 3 dummy variables (Price contains 4 different types. We leave one out since we can infer the forth type by only looking at value the other three dummy variables). Finally we also include the average restaurant rating as an indepedent variable. \n",
    "\n",
    "So in total we have 5 indepedent variables. We build a logistic regression classifer using these input values. Again we split the data into training, validation and testing set with the same ratio. The classifer is trained using the training set and then measured performance using the validation set. \n",
    "\n",
    "On the validation set, this logistic regression achieves around 74% prediciton accuracy, which outperforms the Multi-Nominal Naive Bayes classifer by around 3%. So we believe that adding these additional features about the business can better help a classifer to indentify the sentiment of the review. "
   ]
  },
  {
   "cell_type": "code",
   "execution_count": 13,
   "metadata": {},
   "outputs": [
    {
     "name": "stdout",
     "output_type": "stream",
     "text": [
      "LR validation Accuracy: 0.737628384687\n"
     ]
    }
   ],
   "source": [
    "from sklearn.linear_model import LogisticRegression\n",
    "\n",
    "# divide price, restaurant into categories\n",
    "data['estimate'] = nb.fit(clean_x, y).predict(clean_x)\n",
    "df_price = pd.get_dummies(data['price'], drop_first=True)\n",
    "data = pd.concat([data, df_price], axis=1)\n",
    "\n",
    "data_subset = data[['$$','$$$','$$$$','restaurant_rating', 'estimate']]\n",
    "\n",
    "# split data into training and testing set\n",
    "subx_use, subx_test , suby_use, suby_test = train_test_split(data_subset, y, test_size=0.1)\n",
    "subx_train, subx_validate, suby_train, suby_validate = train_test_split(subx_use, suby_use, test_size=0.2)\n",
    "\n",
    "# # actual model\n",
    "lr = LogisticRegression()\n",
    "lr.fit(subx_train, suby_train)\n",
    "suby_pred = lr.predict(subx_validate)\n",
    "print(\"LR validation Accuracy: \" + str(accuracy_score(suby_validate, suby_pred)))"
   ]
  },
  {
   "cell_type": "code",
   "execution_count": 14,
   "metadata": {},
   "outputs": [
    {
     "name": "stdout",
     "output_type": "stream",
     "text": [
      "Naive Bayes Test Accuracy: 0.73252688172\n",
      "Logistic Regression Test Accuracy: 0.747311827957\n"
     ]
    }
   ],
   "source": [
    "y_pred_test = nb.predict(x_test)\n",
    "sub_y_pred_test = lr.predict(subx_test)\n",
    "\n",
    "print(\"Naive Bayes Test Accuracy: \"+ str(accuracy_score(y_test, y_pred_test)))\n",
    "print(\"Logistic Regression Test Accuracy: \"+ str(accuracy_score(suby_test, sub_y_pred_test)))"
   ]
  },
  {
   "cell_type": "markdown",
   "metadata": {},
   "source": [
    "# Summary\n",
    "\n",
    "In this project, we are interested in the sentiment of the reviews on Yelp. we first did data collection which includes ten cities and 3 reviews for each cities using the Yelp API. After that, we did data pre-processing to merge the raw data into a dataframe where each entry include the review rating, review text, restaurant rating and restaurant price level and etc.\n",
    "\n",
    "Then we did some explantory and statistical analysis to get a brief understanding of the data. Next we built a naive bayes classifier using only review text that achieves around 71% prediction sentiment accuracy. By incorporating the results (predicted categories) from the NB classifier into a logistic regression model with other explanatory variables, the prediction accuracy improves to around 74%. "
   ]
  }
 ],
 "metadata": {
  "kernelspec": {
   "display_name": "Python 3",
   "language": "python",
   "name": "python3"
  },
  "language_info": {
   "codemirror_mode": {
    "name": "ipython",
    "version": 3
   },
   "file_extension": ".py",
   "mimetype": "text/x-python",
   "name": "python",
   "nbconvert_exporter": "python",
   "pygments_lexer": "ipython3",
   "version": "3.6.3"
  }
 },
 "nbformat": 4,
 "nbformat_minor": 2
}
