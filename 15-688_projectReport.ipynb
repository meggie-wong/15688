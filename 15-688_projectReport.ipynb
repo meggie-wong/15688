{
 "cells": [
  {
   "cell_type": "code",
   "execution_count": 1,
   "metadata": {
    "collapsed": true
   },
   "outputs": [],
   "source": [
    "import pandas as pd\n",
    "import numpy as np\n",
    "import scipy.stats as stats\n",
    "from nltk.corpus import stopwords\n",
    "from string import punctuation\n",
    "from nltk.stem.wordnet import WordNetLemmatizer\n",
    "from sklearn.feature_extraction.text import CountVectorizer\n",
    "from sklearn.model_selection import train_test_split\n",
    "from sklearn.naive_bayes import GaussianNB, MultinomialNB\n",
    "from sklearn.metrics import accuracy_score\n",
    "\n",
    "import matplotlib.pyplot as plt"
   ]
  },
  {
   "cell_type": "markdown",
   "metadata": {},
   "source": [
    "# Introduction"
   ]
  },
  {
   "cell_type": "markdown",
   "metadata": {},
   "source": [
    "[Yelp.com](www.yelp.com) is a popular crowd-sourced local business review and social network site. It offers a platform where users can submit a review of the business using a one to five star rating system along with additional reviews. In this project, we are interested in the sentiment of reviews and trying to explore what could be potential useful factors to predict the sentiment. "
   ]
  },
  {
   "cell_type": "markdown",
   "metadata": {},
   "source": [
    "# Data Overview\n"
   ]
  },
  {
   "cell_type": "markdown",
   "metadata": {},
   "source": [
    "All the data is retrieved using the Yelp Fusion API. We search for restaurants in 10 cities in the United States, namely Boston, Chicago, Miami, Minneapolis, Nashville, New Mexico, New York, Pittsburgh, San Francisco and Seattle. \n",
    "\n",
    "For each city, we collect at most 1,000 restaurants and at most 3 reviews (due to the API limitation) for each restaurant. There are in total 9915 restaurants and 29742 reviews. In additional to the review text and the review rating, we also retrieved other business-related information including the city location, overall  restaurant rating, category, price level and the total review count for each restaurant. Data are then preprocessed and stored in a dataframe. "
   ]
  },
  {
   "cell_type": "code",
   "execution_count": 3,
   "metadata": {
    "scrolled": true
   },
   "outputs": [],
   "source": [
    "# load data into a panda dataframe\n",
    "data = pd.read_pickle('complete_data')\n",
    "\n",
    "# show first 2 row of the data\n",
    "# data.head(2)"
   ]
  },
  {
   "cell_type": "markdown",
   "metadata": {},
   "source": [
    "# Exploratory Data Analysis\n"
   ]
  },
  {
   "cell_type": "code",
   "execution_count": null,
   "metadata": {
    "collapsed": true
   },
   "outputs": [],
   "source": []
  }
 ],
 "metadata": {
  "kernelspec": {
   "display_name": "Python 3",
   "language": "python",
   "name": "python3"
  },
  "language_info": {
   "codemirror_mode": {
    "name": "ipython",
    "version": 3
   },
   "file_extension": ".py",
   "mimetype": "text/x-python",
   "name": "python",
   "nbconvert_exporter": "python",
   "pygments_lexer": "ipython3",
   "version": "3.6.3"
  }
 },
 "nbformat": 4,
 "nbformat_minor": 2
}
