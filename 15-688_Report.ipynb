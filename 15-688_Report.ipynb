{
 "cells": [
  {
   "cell_type": "code",
   "execution_count": 6,
   "metadata": {
    "collapsed": true
   },
   "outputs": [],
   "source": [
    "import pandas as pd\n",
    "import numpy as np\n",
    "import scipy.stats as stats\n",
    "from nltk.corpus import stopwords\n",
    "from string import punctuation\n",
    "from nltk.stem.wordnet import WordNetLemmatizer\n",
    "from sklearn.feature_extraction.text import CountVectorizer\n",
    "from sklearn.model_selection import train_test_split\n",
    "from sklearn.naive_bayes import GaussianNB, MultinomialNB\n",
    "from sklearn.metrics import accuracy_score\n",
    "\n",
    "import matplotlib.pyplot as plt"
   ]
  },
  {
   "cell_type": "markdown",
   "metadata": {},
   "source": [
    "# Introduction"
   ]
  },
  {
   "cell_type": "markdown",
   "metadata": {},
   "source": [
    "[Yelp.com](www.yelp.com) is a popular crowd-sourced local business review and social network site. It offers a platform where users can submit a review of the business using a one to five star rating system along with additional reviews. In this project, we are interested in the sentiment of reviews and trying to explore what could be potential useful factors to predict the sentiment. "
   ]
  },
  {
   "cell_type": "markdown",
   "metadata": {},
   "source": [
    "# Data Overview\n"
   ]
  },
  {
   "cell_type": "markdown",
   "metadata": {},
   "source": [
    "All the data is retrieved using the Yelp Fusion API. We search for restaurants in 10 cities in the United States, namely Boston, Chicago, Miami, Minneapolis, Nashville, New Mexico, New York, Pittsburgh, San Francisco and Seattle. \n",
    "\n",
    "For each city, we collect at most 1,000 restaurants and at most 3 reviews (due to the API limitation) for each restaurant. There are in total 9915 restaurants and 29742 reviews. In additional to the review text and the review rating, we also retrieved other business-related information including the city location, overall  restaurant rating, category, price level and the total review count for each restaurant. Data are then preprocessed and stored in a dataframe. "
   ]
  },
  {
   "cell_type": "code",
   "execution_count": 7,
   "metadata": {},
   "outputs": [],
   "source": [
    "# load data into a panda dataframe\n",
    "data = pd.read_pickle('complete_data')\n",
    "\n",
    "# show first 2 row of the data\n",
    "# data.head(2)"
   ]
  },
  {
   "cell_type": "markdown",
   "metadata": {},
   "source": [
    "# Exploratory Data Analysis\n"
   ]
  },
  {
   "cell_type": "markdown",
   "metadata": {},
   "source": [
    "To begin with, we first perform a exploratory data analysis to get a through understading of our data and explore the relationship between each variables. \n",
    "\n",
    "We choose price, restaurant_rating, review_count and estimate (the estimated category) as explanatory variables, and rating as the response. In this section we will focus on the first three. "
   ]
  },
  {
   "cell_type": "code",
   "execution_count": 8,
   "metadata": {},
   "outputs": [
    {
     "name": "stdout",
     "output_type": "stream",
     "text": [
      "Price value:{'$$', '$$$', '$', '$$$$'}\n",
      "Restaurant Rating: {1.5, 2.5, 3.0, 3.5, 5.0, 4.5, 4.0, 2.0}\n",
      "Review Rating: {1, 2, 3, 4, 5}\n"
     ]
    }
   ],
   "source": [
    "# get categories\n",
    "print(\"Price value:\" + str(set(pd.Series.tolist(data['price']))))\n",
    "print(\"Restaurant Rating: \" + str(set(pd.Series.tolist(data['restaurant_rating']))))\n",
    "print(\"Review Rating: \" + str(set(pd.Series.tolist(data['rating']))))"
   ]
  },
  {
   "cell_type": "markdown",
   "metadata": {},
   "source": [
    "From the above outputs we see that price is a categorical variable with four levels: \\$, \\$\\$, \\$\\$\\$, \\$\\$\\$\\$. Restaurant_rating is also categorical with 8 categories: 1.5, 2.0, 2.5, 3.0, 3.5, 4.0, 4.5, 5.0. Review count is quantitative and takes values in positive integers. Then we will explore how each variable interact with the review rating."
   ]
  },
  {
   "cell_type": "markdown",
   "metadata": {},
   "source": [
    "# Statistical Analysis\n"
   ]
  },
  {
   "cell_type": "markdown",
   "metadata": {},
   "source": [
    "We want to analyze the relationship between each of the three explanatory variables and the response. Since price and restaurant_rating are categorical, we will run chi-square test on them. "
   ]
  },
  {
   "cell_type": "markdown",
   "metadata": {},
   "source": [
    "Since chi-squared stat > critical value, we reject the null hypothesis and state there's a relationship between price and rating. "
   ]
  },
  {
   "cell_type": "markdown",
   "metadata": {},
   "source": [
    "#### Price - Rating Analysis \n",
    "We would like to analyze the relationship between price and review rating. From the visualization below, it turns out to be that the higher the resraurant price level is, the higher rating of each review for the restaurant. The resraurants in price \\$$$$ level have larger proportion of 5 star review rating (more than half) and less propotion of 1 star review rating (nearly 5%) than others.\n",
    "Also one thing can be inferred from this graph is that customers are more likely to give high ratings no matter what price level the resraurant is.\n",
    "\n",
    "So that we can infer that the luxury restaurant tends to have higher review ratings and cheap restaurants also have this feature. But cheap restaurants have the largest propotion of 1 star ratings. While, the moderately priced restaurant have the relatively normal distribution. "
   ]
  },
  {
   "cell_type": "markdown",
   "metadata": {},
   "source": [
    "# Summary\n",
    "\n",
    "In this project, we are interested in the sentiment of the reviews on Yelp. we first did data collection which includes ten cities and 3 reviews for each cities using the Yelp API. After that, we did data pre-processing to merge the raw data into a dataframe where each entry include the review rating, review text, restaurant rating and restaurant price level and etc.\n",
    "\n",
    "Then we did some explantory and statistical analysis to get a brief understanding of the data. Next we built a naive bayes classifier using only review text that achieves around 71% prediction sentiment accuracy. By incorporating the results (predicted categories) from the NB classifier into a logistic regression model with other explanatory variables, the prediction accuracy improves to around 74%. "
   ]
  },
  {
   "cell_type": "code",
   "execution_count": null,
   "metadata": {
    "collapsed": true
   },
   "outputs": [],
   "source": []
  },
  {
   "cell_type": "code",
   "execution_count": null,
   "metadata": {
    "collapsed": true
   },
   "outputs": [],
   "source": []
  },
  {
   "cell_type": "code",
   "execution_count": null,
   "metadata": {
    "collapsed": true
   },
   "outputs": [],
   "source": []
  }
 ],
 "metadata": {
  "kernelspec": {
   "display_name": "Python 3",
   "language": "python",
   "name": "python3"
  },
  "language_info": {
   "codemirror_mode": {
    "name": "ipython",
    "version": 3
   },
   "file_extension": ".py",
   "mimetype": "text/x-python",
   "name": "python",
   "nbconvert_exporter": "python",
   "pygments_lexer": "ipython3",
   "version": "3.6.3"
  }
 },
 "nbformat": 4,
 "nbformat_minor": 2
}
